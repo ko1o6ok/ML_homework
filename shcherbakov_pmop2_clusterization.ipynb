{
 "cells": [
  {
   "cell_type": "markdown",
   "id": "245cfbbb-9a08-4a2d-8343-2e6b87325d48",
   "metadata": {},
   "source": [
    "Щербаков Павел, гр. 3821Б1ПМоп2"
   ]
  },
  {
   "cell_type": "markdown",
   "id": "9fd1eb6b-4fbf-4477-abec-2d38c74441c6",
   "metadata": {},
   "source": [
    "**Для подробного описания данных см. другой файл**"
   ]
  },
  {
   "cell_type": "markdown",
   "id": "cfa0f495-2b8d-4ec0-b63c-de2f6792ae4c",
   "metadata": {},
   "source": [
    "1. Вся предобработка данных с того файла"
   ]
  },
  {
   "cell_type": "code",
   "execution_count": 2,
   "id": "66f263f0-4b56-49ef-ad50-60cd72537069",
   "metadata": {},
   "outputs": [],
   "source": [
    "import seaborn as sns\n",
    "import matplotlib.pyplot as plt\n",
    "%matplotlib inline\n",
    "import numpy as np\n",
    "import pandas as pd\n",
    "import sklearn\n",
    "raw_data = pd.read_csv(\"data.txt\",sep=\";\")\n",
    "raw_data = raw_data.drop(\"duration\",axis = 1)\n",
    "raw_data = raw_data[raw_data['age'] < 70.0]\n",
    "raw_data = raw_data[raw_data['campaign'] < 7]\n",
    "raw_data = raw_data[raw_data['previous'] <= 2.0]\n",
    "cols = raw_data.columns\n",
    "from sklearn.impute import SimpleImputer\n",
    "imp_num = SimpleImputer(missing_values='unknown', strategy=\"most_frequent\")\n",
    "imp_num.fit(raw_data)\n",
    "raw_data = pd.DataFrame(imp_num.transform(raw_data))\n",
    "raw_data.columns = cols\n",
    "for col_name in ['job', 'marital', 'education', 'default', 'housing', 'loan',\n",
    "       'contact', 'month', 'day_of_week', 'poutcome', 'y']:\n",
    "    raw_data[col_name] = raw_data[col_name].astype('category')\n",
    "from sklearn.preprocessing import OneHotEncoder\n",
    "enc = OneHotEncoder(drop='if_binary', sparse_output=False)\n",
    "X = raw_data.drop(['y'],axis = 1)\n",
    "enc.fit(X[['job', 'marital', 'education', 'default', 'housing', 'loan',\n",
    "       'contact', 'month', 'day_of_week', 'poutcome']])\n",
    "dummies = pd.DataFrame(enc.transform(X[['job', 'marital', 'education', 'default', 'housing', 'loan',\n",
    "       'contact', 'month', 'day_of_week', 'poutcome']]),\n",
    "                       columns=enc.get_feature_names_out(), index=X.index)\n",
    "X = pd.concat((X, dummies), axis=1).drop(['job', 'marital', 'education', 'default', 'housing', 'loan',\n",
    "       'contact', 'month', 'day_of_week', 'poutcome'], axis=1)\n",
    "from sklearn.preprocessing import StandardScaler\n",
    "scaler = StandardScaler()\n",
    "scaler.fit(X)\n",
    "X = pd.DataFrame(scaler.transform(X), columns=X.columns, index=X.index)\n",
    "y = raw_data['y'].map({'yes': 1.0, 'no': 0.0})"
   ]
  },
  {
   "cell_type": "markdown",
   "id": "8e31ae3c-1f85-4235-a778-b39cf90a9e17",
   "metadata": {},
   "source": [
    "Без оверсемплинга нормальные результаты по кластеризации не получались"
   ]
  },
  {
   "cell_type": "code",
   "execution_count": 4,
   "id": "47ac49cd-27f5-44b8-ac03-02d85a4fdbd6",
   "metadata": {},
   "outputs": [],
   "source": [
    "from imblearn.over_sampling import SMOTE\n",
    "sm = SMOTE(random_state=42)\n",
    "X_res, y_res = sm.fit_resample(X, y)"
   ]
  },
  {
   "cell_type": "markdown",
   "id": "7792b5c4-ef09-49b0-bdcd-60a831c4420b",
   "metadata": {},
   "source": [
    "Делим на обучающую и тестовую выборку"
   ]
  },
  {
   "cell_type": "code",
   "execution_count": 6,
   "id": "9aace8c3-a734-4b5f-99f5-6746fb029aad",
   "metadata": {},
   "outputs": [],
   "source": [
    "from sklearn.model_selection import train_test_split\n",
    "X_res_train, X_res_test, y_res_train, y_res_test = train_test_split(\n",
    "    X_res, y_res, test_size=0.3, random_state=42)"
   ]
  },
  {
   "cell_type": "markdown",
   "id": "f074abd0-2049-475f-a3f7-89faab7fd4d5",
   "metadata": {},
   "source": [
    "2. Кластеризация"
   ]
  },
  {
   "cell_type": "code",
   "execution_count": 8,
   "id": "022e1a85-5650-499f-b9b6-aae8ca0126de",
   "metadata": {},
   "outputs": [],
   "source": [
    "from sklearn.cluster import DBSCAN,KMeans,Birch\n",
    "from sklearn import metrics"
   ]
  },
  {
   "cell_type": "markdown",
   "id": "d6d84f38-e209-46c5-b54a-dc3977c9f914",
   "metadata": {},
   "source": [
    "В качестве объективной метрики выберем Adjusted Rand Score"
   ]
  },
  {
   "cell_type": "markdown",
   "id": "22e0fbce-25f8-4163-a35c-634404e0caf2",
   "metadata": {},
   "source": [
    "2. 1. DBSCAN - метод, основанный на плотности"
   ]
  },
  {
   "cell_type": "markdown",
   "id": "726a01cd-870d-4b95-98f0-6a2e9666f777",
   "metadata": {},
   "source": [
    "Используем optuna для максимизации ARI по гиперпараметрам"
   ]
  },
  {
   "cell_type": "code",
   "execution_count": 26,
   "id": "c718dd47-e09e-408f-871c-b07081bc53f9",
   "metadata": {},
   "outputs": [],
   "source": [
    "import optuna"
   ]
  },
  {
   "cell_type": "code",
   "execution_count": 32,
   "id": "3d412fe3-5958-4389-b921-93ec2483b6a0",
   "metadata": {},
   "outputs": [],
   "source": [
    "def objective(trial):\n",
    "    eps = trial.suggest_float('eps', 1.0, 5.0)\n",
    "    min_samples = trial.suggest_int('min_samples',100,200)\n",
    "    clustering = DBSCAN(eps=eps, min_samples=min_samples).fit(X_res_train)\n",
    "    return metrics.adjusted_rand_score(y_res_train, clustering.labels_)"
   ]
  },
  {
   "cell_type": "code",
   "execution_count": 34,
   "id": "4a298150-4f3b-4116-b708-f0cfe755c5c3",
   "metadata": {
    "scrolled": true
   },
   "outputs": [
    {
     "name": "stderr",
     "output_type": "stream",
     "text": [
      "[I 2024-12-15 14:17:27,533] A new study created in memory with name: no-name-e09245db-cc87-43c4-9399-72359fbcb9e6\n",
      "[I 2024-12-15 14:17:31,374] Trial 0 finished with value: 0.0 and parameters: {'eps': 2.6242136334269874, 'min_samples': 182}. Best is trial 0 with value: 0.0.\n",
      "[I 2024-12-15 14:17:35,250] Trial 1 finished with value: 0.0 and parameters: {'eps': 1.3048990307806432, 'min_samples': 118}. Best is trial 0 with value: 0.0.\n",
      "[I 2024-12-15 14:17:42,428] Trial 2 finished with value: 0.001162785259191219 and parameters: {'eps': 3.3531129958874417, 'min_samples': 186}. Best is trial 2 with value: 0.001162785259191219.\n",
      "[I 2024-12-15 14:17:46,048] Trial 3 finished with value: 4.830791767802875e-07 and parameters: {'eps': 1.9441647769697967, 'min_samples': 120}. Best is trial 2 with value: 0.001162785259191219.\n",
      "[I 2024-12-15 14:17:50,304] Trial 4 finished with value: 0.052331960626185905 and parameters: {'eps': 4.937297641228676, 'min_samples': 146}. Best is trial 4 with value: 0.052331960626185905.\n",
      "[I 2024-12-15 14:17:54,006] Trial 5 finished with value: -7.487501921949898e-08 and parameters: {'eps': 1.794753922382477, 'min_samples': 130}. Best is trial 4 with value: 0.052331960626185905.\n",
      "[I 2024-12-15 14:17:57,876] Trial 6 finished with value: 0.0006370957894827907 and parameters: {'eps': 3.026396776662989, 'min_samples': 121}. Best is trial 4 with value: 0.052331960626185905.\n",
      "[I 2024-12-15 14:18:01,414] Trial 7 finished with value: 0.0 and parameters: {'eps': 1.2469629477619097, 'min_samples': 183}. Best is trial 4 with value: 0.052331960626185905.\n",
      "[I 2024-12-15 14:18:04,957] Trial 8 finished with value: 0.0 and parameters: {'eps': 2.1933539818684693, 'min_samples': 157}. Best is trial 4 with value: 0.052331960626185905.\n",
      "[I 2024-12-15 14:18:08,694] Trial 9 finished with value: 2.5787330199616266e-07 and parameters: {'eps': 1.9273022608009582, 'min_samples': 101}. Best is trial 4 with value: 0.052331960626185905.\n",
      "[I 2024-12-15 14:18:12,743] Trial 10 finished with value: 0.05838681355034247 and parameters: {'eps': 4.666591400593383, 'min_samples': 158}. Best is trial 10 with value: 0.05838681355034247.\n",
      "[I 2024-12-15 14:18:16,820] Trial 11 finished with value: 0.05744395106565916 and parameters: {'eps': 4.754494168766768, 'min_samples': 154}. Best is trial 10 with value: 0.05838681355034247.\n",
      "[I 2024-12-15 14:18:21,113] Trial 12 finished with value: 0.05382113839425921 and parameters: {'eps': 4.948866149384018, 'min_samples': 161}. Best is trial 10 with value: 0.05838681355034247.\n",
      "[I 2024-12-15 14:18:24,763] Trial 13 finished with value: 0.042859356894786975 and parameters: {'eps': 4.023147003461597, 'min_samples': 168}. Best is trial 10 with value: 0.05838681355034247.\n",
      "[I 2024-12-15 14:18:28,503] Trial 14 finished with value: 0.06075663710961029 and parameters: {'eps': 4.216904476114342, 'min_samples': 141}. Best is trial 14 with value: 0.06075663710961029.\n",
      "[I 2024-12-15 14:18:32,191] Trial 15 finished with value: 0.0523552679753649 and parameters: {'eps': 4.152800225254651, 'min_samples': 141}. Best is trial 14 with value: 0.06075663710961029.\n",
      "[I 2024-12-15 14:18:35,841] Trial 16 finished with value: 0.04335217303997382 and parameters: {'eps': 4.119437407054939, 'min_samples': 200}. Best is trial 14 with value: 0.06075663710961029.\n",
      "[I 2024-12-15 14:18:39,539] Trial 17 finished with value: 0.00558823117591642 and parameters: {'eps': 3.5240666066536943, 'min_samples': 136}. Best is trial 14 with value: 0.06075663710961029.\n",
      "[I 2024-12-15 14:18:43,474] Trial 18 finished with value: 0.05896288051959897 and parameters: {'eps': 4.606945620319072, 'min_samples': 171}. Best is trial 14 with value: 0.06075663710961029.\n",
      "[I 2024-12-15 14:18:47,338] Trial 19 finished with value: 0.061538095037016495 and parameters: {'eps': 4.376347944067499, 'min_samples': 176}. Best is trial 19 with value: 0.061538095037016495.\n"
     ]
    },
    {
     "data": {
      "text/plain": [
       "{'eps': 4.376347944067499, 'min_samples': 176}"
      ]
     },
     "execution_count": 34,
     "metadata": {},
     "output_type": "execute_result"
    }
   ],
   "source": [
    "study = optuna.create_study(direction=\"maximize\")\n",
    "study.optimize(objective, n_trials=20)\n",
    "study.best_params"
   ]
  },
  {
   "cell_type": "code",
   "execution_count": 36,
   "id": "dff062a6-3c08-4201-9032-3fbc4d20787f",
   "metadata": {},
   "outputs": [
    {
     "data": {
      "text/plain": [
       "0.021078873985542014"
      ]
     },
     "execution_count": 36,
     "metadata": {},
     "output_type": "execute_result"
    }
   ],
   "source": [
    "clustering = DBSCAN(eps=4.376347944067499, min_samples=176).fit(X_res_test)\n",
    "metrics.adjusted_rand_score(y_res_test, clustering.labels_)"
   ]
  },
  {
   "cell_type": "markdown",
   "id": "ce3cb625-f93f-48a4-bb4d-d81824b53950",
   "metadata": {},
   "source": [
    "2. 2. KMeans - метод, основанный на близости"
   ]
  },
  {
   "cell_type": "code",
   "execution_count": 47,
   "id": "cd61acdd-1616-466e-81fd-70546eff2cc9",
   "metadata": {},
   "outputs": [],
   "source": [
    "def objective(trial):\n",
    "    num_clusters = trial.suggest_int('num_clusters',1,10)\n",
    "    clustering = KMeans(n_clusters = num_clusters).fit(X_res_train)\n",
    "    return metrics.adjusted_rand_score(y_res_train, clustering.labels_)"
   ]
  },
  {
   "cell_type": "code",
   "execution_count": 49,
   "id": "98bde235-46d1-400b-b311-577fa7b50813",
   "metadata": {
    "scrolled": true
   },
   "outputs": [
    {
     "name": "stderr",
     "output_type": "stream",
     "text": [
      "[I 2024-12-15 14:33:46,075] A new study created in memory with name: no-name-51ab4b94-fd1a-4b06-8cca-d222601f9a73\n",
      "[I 2024-12-15 14:33:46,397] Trial 0 finished with value: 0.06423420353645869 and parameters: {'num_clusters': 9}. Best is trial 0 with value: 0.06423420353645869.\n",
      "[I 2024-12-15 14:33:46,588] Trial 1 finished with value: 0.10774059463549385 and parameters: {'num_clusters': 4}. Best is trial 1 with value: 0.10774059463549385.\n",
      "[I 2024-12-15 14:33:46,740] Trial 2 finished with value: 0.02775301109408576 and parameters: {'num_clusters': 2}. Best is trial 1 with value: 0.10774059463549385.\n",
      "[I 2024-12-15 14:33:46,904] Trial 3 finished with value: 0.14536670778479632 and parameters: {'num_clusters': 3}. Best is trial 3 with value: 0.14536670778479632.\n",
      "[I 2024-12-15 14:33:47,079] Trial 4 finished with value: 0.10297156130024834 and parameters: {'num_clusters': 6}. Best is trial 3 with value: 0.14536670778479632.\n",
      "[I 2024-12-15 14:33:47,282] Trial 5 finished with value: 0.06652172935826924 and parameters: {'num_clusters': 7}. Best is trial 3 with value: 0.14536670778479632.\n",
      "[I 2024-12-15 14:33:47,451] Trial 6 finished with value: 0.12448587491872147 and parameters: {'num_clusters': 3}. Best is trial 3 with value: 0.14536670778479632.\n",
      "[I 2024-12-15 14:33:47,672] Trial 7 finished with value: 0.04610566112219854 and parameters: {'num_clusters': 10}. Best is trial 3 with value: 0.14536670778479632.\n",
      "[I 2024-12-15 14:33:47,842] Trial 8 finished with value: 0.1633068764109126 and parameters: {'num_clusters': 2}. Best is trial 8 with value: 0.1633068764109126.\n",
      "[I 2024-12-15 14:33:48,031] Trial 9 finished with value: 0.08748999800171456 and parameters: {'num_clusters': 4}. Best is trial 8 with value: 0.1633068764109126.\n",
      "[I 2024-12-15 14:33:48,173] Trial 10 finished with value: 0.0 and parameters: {'num_clusters': 1}. Best is trial 8 with value: 0.1633068764109126.\n",
      "[I 2024-12-15 14:33:48,311] Trial 11 finished with value: 0.0 and parameters: {'num_clusters': 1}. Best is trial 8 with value: 0.1633068764109126.\n",
      "[I 2024-12-15 14:33:48,496] Trial 12 finished with value: 0.08748999765637216 and parameters: {'num_clusters': 4}. Best is trial 8 with value: 0.1633068764109126.\n",
      "[I 2024-12-15 14:33:48,668] Trial 13 finished with value: 0.12448587491872147 and parameters: {'num_clusters': 3}. Best is trial 8 with value: 0.1633068764109126.\n",
      "[I 2024-12-15 14:33:48,876] Trial 14 finished with value: 0.06877507618229468 and parameters: {'num_clusters': 6}. Best is trial 8 with value: 0.1633068764109126.\n",
      "[I 2024-12-15 14:33:49,050] Trial 15 finished with value: 0.03759363196761466 and parameters: {'num_clusters': 2}. Best is trial 8 with value: 0.1633068764109126.\n",
      "[I 2024-12-15 14:33:49,229] Trial 16 finished with value: 0.11324725141399818 and parameters: {'num_clusters': 5}. Best is trial 8 with value: 0.1633068764109126.\n",
      "[I 2024-12-15 14:33:49,390] Trial 17 finished with value: 0.03759363196761466 and parameters: {'num_clusters': 2}. Best is trial 8 with value: 0.1633068764109126.\n",
      "[I 2024-12-15 14:33:49,599] Trial 18 finished with value: 0.05989277712990652 and parameters: {'num_clusters': 8}. Best is trial 8 with value: 0.1633068764109126.\n",
      "[I 2024-12-15 14:33:49,763] Trial 19 finished with value: 0.14536670778479632 and parameters: {'num_clusters': 3}. Best is trial 8 with value: 0.1633068764109126.\n"
     ]
    },
    {
     "data": {
      "text/plain": [
       "{'num_clusters': 2}"
      ]
     },
     "execution_count": 49,
     "metadata": {},
     "output_type": "execute_result"
    }
   ],
   "source": [
    "study = optuna.create_study(direction=\"maximize\")\n",
    "study.optimize(objective, n_trials=20)\n",
    "study.best_params"
   ]
  },
  {
   "cell_type": "code",
   "execution_count": 51,
   "id": "713147fe-3c40-426e-8ee9-7e50154787aa",
   "metadata": {},
   "outputs": [
    {
     "data": {
      "text/plain": [
       "0.002891237043303151"
      ]
     },
     "execution_count": 51,
     "metadata": {},
     "output_type": "execute_result"
    }
   ],
   "source": [
    "clustering = KMeans(n_clusters = 2).fit(X_res_test)\n",
    "metrics.adjusted_rand_score(y_res_test, clustering.labels_)"
   ]
  },
  {
   "cell_type": "markdown",
   "id": "3045c253-c6b5-4c8d-bd15-344f88cf252f",
   "metadata": {},
   "source": [
    "2. 3. BIRCH - метод, основанный на деревьях"
   ]
  },
  {
   "cell_type": "code",
   "execution_count": 58,
   "id": "4446ba14-5ba6-4ede-8ff4-30e5a37339b7",
   "metadata": {},
   "outputs": [],
   "source": [
    "def objective(trial):\n",
    "    num_clusters = trial.suggest_int('num_clusters',1,10)\n",
    "    clustering = Birch(n_clusters = num_clusters).fit(X_res_train)\n",
    "    return metrics.adjusted_rand_score(y_res_train, clustering.labels_)"
   ]
  },
  {
   "cell_type": "code",
   "execution_count": 60,
   "id": "baaa8078-e641-4587-917f-b8de09075d95",
   "metadata": {},
   "outputs": [
    {
     "name": "stderr",
     "output_type": "stream",
     "text": [
      "[I 2024-12-15 14:44:10,108] A new study created in memory with name: no-name-918ca5c1-fcea-4ca3-8598-4da69cfe3af2\n",
      "[I 2024-12-15 14:45:22,219] Trial 0 finished with value: 0.08587742484591322 and parameters: {'num_clusters': 8}. Best is trial 0 with value: 0.08587742484591322.\n",
      "[I 2024-12-15 14:46:33,284] Trial 1 finished with value: 0.08943037126589587 and parameters: {'num_clusters': 6}. Best is trial 1 with value: 0.08943037126589587.\n",
      "[I 2024-12-15 14:47:45,970] Trial 2 finished with value: 0.08587742484591322 and parameters: {'num_clusters': 8}. Best is trial 1 with value: 0.08943037126589587.\n",
      "[I 2024-12-15 14:48:58,922] Trial 3 finished with value: 0.03149364601723845 and parameters: {'num_clusters': 2}. Best is trial 1 with value: 0.08943037126589587.\n",
      "[I 2024-12-15 14:50:14,956] Trial 4 finished with value: 0.10181138261094957 and parameters: {'num_clusters': 4}. Best is trial 4 with value: 0.10181138261094957.\n",
      "[I 2024-12-15 14:51:26,664] Trial 5 finished with value: 0.08943037126589587 and parameters: {'num_clusters': 6}. Best is trial 4 with value: 0.10181138261094957.\n",
      "[I 2024-12-15 14:52:37,226] Trial 6 finished with value: 0.09682822520793845 and parameters: {'num_clusters': 5}. Best is trial 4 with value: 0.10181138261094957.\n",
      "[I 2024-12-15 14:53:53,364] Trial 7 finished with value: 0.08587742484591322 and parameters: {'num_clusters': 8}. Best is trial 4 with value: 0.10181138261094957.\n",
      "[I 2024-12-15 14:55:05,113] Trial 8 finished with value: 0.08537920738534488 and parameters: {'num_clusters': 7}. Best is trial 4 with value: 0.10181138261094957.\n",
      "[I 2024-12-15 14:56:19,197] Trial 9 finished with value: 0.09682822520793845 and parameters: {'num_clusters': 5}. Best is trial 4 with value: 0.10181138261094957.\n",
      "[I 2024-12-15 14:57:30,893] Trial 10 finished with value: 0.03149364601723845 and parameters: {'num_clusters': 2}. Best is trial 4 with value: 0.10181138261094957.\n",
      "[I 2024-12-15 14:58:43,503] Trial 11 finished with value: 0.10181138261094957 and parameters: {'num_clusters': 4}. Best is trial 4 with value: 0.10181138261094957.\n",
      "[I 2024-12-15 14:59:56,764] Trial 12 finished with value: 0.10439566416979142 and parameters: {'num_clusters': 3}. Best is trial 12 with value: 0.10439566416979142.\n",
      "[I 2024-12-15 15:01:15,317] Trial 13 finished with value: 0.10439566416979142 and parameters: {'num_clusters': 3}. Best is trial 12 with value: 0.10439566416979142.\n",
      "[I 2024-12-15 15:02:28,798] Trial 14 finished with value: 0.0 and parameters: {'num_clusters': 1}. Best is trial 12 with value: 0.10439566416979142.\n",
      "[I 2024-12-15 15:03:38,695] Trial 15 finished with value: 0.10439566416979142 and parameters: {'num_clusters': 3}. Best is trial 12 with value: 0.10439566416979142.\n",
      "[I 2024-12-15 15:04:48,727] Trial 16 finished with value: 0.08882819977244778 and parameters: {'num_clusters': 10}. Best is trial 12 with value: 0.10439566416979142.\n",
      "[I 2024-12-15 15:06:10,117] Trial 17 finished with value: 0.0 and parameters: {'num_clusters': 1}. Best is trial 12 with value: 0.10439566416979142.\n",
      "[I 2024-12-15 15:07:27,143] Trial 18 finished with value: 0.10439566416979142 and parameters: {'num_clusters': 3}. Best is trial 12 with value: 0.10439566416979142.\n",
      "[I 2024-12-15 15:08:38,403] Trial 19 finished with value: 0.10439566416979142 and parameters: {'num_clusters': 3}. Best is trial 12 with value: 0.10439566416979142.\n"
     ]
    },
    {
     "data": {
      "text/plain": [
       "{'num_clusters': 3}"
      ]
     },
     "execution_count": 60,
     "metadata": {},
     "output_type": "execute_result"
    }
   ],
   "source": [
    "study = optuna.create_study(direction=\"maximize\")\n",
    "study.optimize(objective, n_trials=20)\n",
    "study.best_params"
   ]
  },
  {
   "cell_type": "code",
   "execution_count": 62,
   "id": "e7abb43c-ce00-43a8-8371-e29cbb682077",
   "metadata": {},
   "outputs": [
    {
     "data": {
      "text/plain": [
       "0.09507147411421792"
      ]
     },
     "execution_count": 62,
     "metadata": {},
     "output_type": "execute_result"
    }
   ],
   "source": [
    "clustering = Birch(n_clusters = 3).fit(X_res_test)\n",
    "metrics.adjusted_rand_score(y_res_test, clustering.labels_)"
   ]
  },
  {
   "cell_type": "markdown",
   "id": "81bad864-3a43-46c6-8faf-caa3d3feea4a",
   "metadata": {},
   "source": [
    "**Сравнение методов**"
   ]
  },
  {
   "cell_type": "code",
   "execution_count": 68,
   "id": "b33bada3-d858-48e9-9313-3e6e791d4fe3",
   "metadata": {},
   "outputs": [],
   "source": [
    "\n",
    "table1 = [[\"DBSCAN\", 0.021078873985542014],\n",
    "         [\"KMeans\", 0.002891237043303151],\n",
    "         [\"Birch\", 0.09507147411421792]]"
   ]
  },
  {
   "cell_type": "code",
   "execution_count": 70,
   "id": "e38d2b87-9b4a-4190-b06d-44b4d9e7b08a",
   "metadata": {},
   "outputs": [
    {
     "data": {
      "text/html": [
       "<div>\n",
       "<style scoped>\n",
       "    .dataframe tbody tr th:only-of-type {\n",
       "        vertical-align: middle;\n",
       "    }\n",
       "\n",
       "    .dataframe tbody tr th {\n",
       "        vertical-align: top;\n",
       "    }\n",
       "\n",
       "    .dataframe thead th {\n",
       "        text-align: right;\n",
       "    }\n",
       "</style>\n",
       "<table border=\"1\" class=\"dataframe\">\n",
       "  <thead>\n",
       "    <tr style=\"text-align: right;\">\n",
       "      <th></th>\n",
       "      <th>Метод</th>\n",
       "      <th>Лучший ARI</th>\n",
       "    </tr>\n",
       "  </thead>\n",
       "  <tbody>\n",
       "    <tr>\n",
       "      <th>0</th>\n",
       "      <td>DBSCAN</td>\n",
       "      <td>0.021079</td>\n",
       "    </tr>\n",
       "    <tr>\n",
       "      <th>1</th>\n",
       "      <td>KMeans</td>\n",
       "      <td>0.002891</td>\n",
       "    </tr>\n",
       "    <tr>\n",
       "      <th>2</th>\n",
       "      <td>Birch</td>\n",
       "      <td>0.095071</td>\n",
       "    </tr>\n",
       "  </tbody>\n",
       "</table>\n",
       "</div>"
      ],
      "text/plain": [
       "    Метод  Лучший ARI\n",
       "0  DBSCAN    0.021079\n",
       "1  KMeans    0.002891\n",
       "2   Birch    0.095071"
      ]
     },
     "execution_count": 70,
     "metadata": {},
     "output_type": "execute_result"
    }
   ],
   "source": [
    "pd.DataFrame(table1,columns=[\"Метод\",\"Лучший ARI\" ])"
   ]
  },
  {
   "cell_type": "markdown",
   "id": "196f751e-c32c-4aaf-8250-425c9c0909ee",
   "metadata": {},
   "source": [
    "**Выводы**:\n",
    "- Кластеризация происходит плохо даже с оверсэмплингом\n",
    "- Использованные методы кластеризации нужные кластеры не находят\n",
    "- Лучший результат получился с использованием метода кластеризации Birch (ARI = $0.095071$)"
   ]
  }
 ],
 "metadata": {
  "kernelspec": {
   "display_name": "Python 3 (ipykernel)",
   "language": "python",
   "name": "python3"
  },
  "language_info": {
   "codemirror_mode": {
    "name": "ipython",
    "version": 3
   },
   "file_extension": ".py",
   "mimetype": "text/x-python",
   "name": "python",
   "nbconvert_exporter": "python",
   "pygments_lexer": "ipython3",
   "version": "3.12.4"
  }
 },
 "nbformat": 4,
 "nbformat_minor": 5
}
